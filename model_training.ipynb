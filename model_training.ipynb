{
 "cells": [
  {
   "cell_type": "code",
   "execution_count": 1,
   "id": "75916eb5",
   "metadata": {},
   "outputs": [],
   "source": [
    "import numpy as np\n",
    "import pandas as pd\n",
    "from sentence_transformers.cross_encoder import CrossEncoder\n",
    "from sentence_transformers.cross_encoder.evaluation import CEBinaryClassificationEvaluator\n",
    "from sentence_transformers import InputExample\n",
    "import torch\n",
    "import math"
   ]
  },
  {
   "cell_type": "code",
   "execution_count": 2,
   "id": "450fecea",
   "metadata": {},
   "outputs": [
    {
     "name": "stdout",
     "output_type": "stream",
     "text": [
      "\n",
      "===================================BUG REPORT===================================\n",
      "Welcome to bitsandbytes. For bug reports, please run\n",
      "\n",
      "python -m bitsandbytes\n",
      "\n",
      " and submit this information together with your error trace to: https://github.com/TimDettmers/bitsandbytes/issues\n",
      "================================================================================\n",
      "bin /opt/conda/lib/python3.10/site-packages/bitsandbytes/libbitsandbytes_cuda113.so\n",
      "CUDA SETUP: CUDA runtime path found: /usr/local/cuda/lib64/libcudart.so\n",
      "CUDA SETUP: Highest compute capability among GPUs detected: 7.5\n",
      "CUDA SETUP: Detected CUDA version 113\n",
      "CUDA SETUP: Loading binary /opt/conda/lib/python3.10/site-packages/bitsandbytes/libbitsandbytes_cuda113.so...\n"
     ]
    },
    {
     "name": "stderr",
     "output_type": "stream",
     "text": [
      "/opt/conda/lib/python3.10/site-packages/bitsandbytes/cuda_setup/main.py:149: UserWarning: /opt/conda did not contain ['libcudart.so', 'libcudart.so.11.0', 'libcudart.so.12.0'] as expected! Searching further paths...\n",
      "  warn(msg)\n",
      "Some weights of DebertaV2ForSequenceClassification were not initialized from the model checkpoint at microsoft/deberta-v3-large and are newly initialized: ['pooler.dense.bias', 'classifier.bias', 'pooler.dense.weight', 'classifier.weight']\n",
      "You should probably TRAIN this model on a down-stream task to be able to use it for predictions and inference.\n",
      "/opt/conda/lib/python3.10/site-packages/transformers/convert_slow_tokenizer.py:473: UserWarning: The sentencepiece tokenizer that you are converting to a fast tokenizer uses the byte fallback option which is not implemented in the fast tokenizers. In practice this means that the fast version of the tokenizer can produce unknown tokens whereas the sentencepiece version would have converted these unknown tokens into a sequence of byte tokens matching the original piece of text.\n",
      "  warnings.warn(\n"
     ]
    }
   ],
   "source": [
    "model_name = 'microsoft/deberta-v3-large' # base model, use 'vectara/hallucination_evaluation_model' if you want to further fine-tune ours\n",
    "\n",
    "model = CrossEncoder(model_name, num_labels=1, max_length = 512, automodel_args={'ignore_mismatched_sizes':True})"
   ]
  },
  {
   "cell_type": "code",
   "execution_count": 3,
   "id": "777a2766",
   "metadata": {},
   "outputs": [],
   "source": [
    "df_train = pd.read_csv(\"\")"
   ]
  },
  {
   "cell_type": "code",
   "execution_count": 4,
   "id": "8a4b29be",
   "metadata": {},
   "outputs": [
    {
     "data": {
      "text/html": [
       "<div>\n",
       "<style scoped>\n",
       "    .dataframe tbody tr th:only-of-type {\n",
       "        vertical-align: middle;\n",
       "    }\n",
       "\n",
       "    .dataframe tbody tr th {\n",
       "        vertical-align: top;\n",
       "    }\n",
       "\n",
       "    .dataframe thead th {\n",
       "        text-align: right;\n",
       "    }\n",
       "</style>\n",
       "<table border=\"1\" class=\"dataframe\">\n",
       "  <thead>\n",
       "    <tr style=\"text-align: right;\">\n",
       "      <th></th>\n",
       "      <th>prompt</th>\n",
       "      <th>completion</th>\n",
       "      <th>output</th>\n",
       "    </tr>\n",
       "  </thead>\n",
       "  <tbody>\n",
       "    <tr>\n",
       "      <th>0</th>\n",
       "      <td>What is the airspeed velocity of an unladen sw...</td>\n",
       "      <td>Insect flight its wing frequency (f) about 40 ...</td>\n",
       "      <td>[Irrelevant]</td>\n",
       "    </tr>\n",
       "    <tr>\n",
       "      <th>1</th>\n",
       "      <td>There is a sound synthesis technique called Fr...</td>\n",
       "      <td>Phase distortion synthesis frequency of the re...</td>\n",
       "      <td>[Relevant]</td>\n",
       "    </tr>\n",
       "    <tr>\n",
       "      <th>2</th>\n",
       "      <td>What is the tallest building in the world?</td>\n",
       "      <td>Council on Tall Buildings and Urban Habitat th...</td>\n",
       "      <td>[Irrelevant]</td>\n",
       "    </tr>\n",
       "    <tr>\n",
       "      <th>3</th>\n",
       "      <td>Why is light affected by gravity even if it do...</td>\n",
       "      <td>Gravity Probe A does not seem to travel on a h...</td>\n",
       "      <td>[Relevant]</td>\n",
       "    </tr>\n",
       "    <tr>\n",
       "      <th>4</th>\n",
       "      <td>Which programming languages support variable v...</td>\n",
       "      <td>Variable shadowing of the language. One of the...</td>\n",
       "      <td>[Relevant]</td>\n",
       "    </tr>\n",
       "    <tr>\n",
       "      <th>...</th>\n",
       "      <td>...</td>\n",
       "      <td>...</td>\n",
       "      <td>...</td>\n",
       "    </tr>\n",
       "    <tr>\n",
       "      <th>19312</th>\n",
       "      <td>On a scale 1-10 how do humans rate the pain re...</td>\n",
       "      <td>Dynorphin was measured by tail-flick latency. ...</td>\n",
       "      <td>[Irrelevant]</td>\n",
       "    </tr>\n",
       "    <tr>\n",
       "      <th>19313</th>\n",
       "      <td>What is the Splunk SPL to determine statistics...</td>\n",
       "      <td>Splunk to connect directly to applications and...</td>\n",
       "      <td>[Irrelevant]</td>\n",
       "    </tr>\n",
       "    <tr>\n",
       "      <th>19314</th>\n",
       "      <td>tell me a story about a boy named james</td>\n",
       "      <td>James Ramsey Ullman \"High Conquest\" was the fi...</td>\n",
       "      <td>[Irrelevant]</td>\n",
       "    </tr>\n",
       "    <tr>\n",
       "      <th>19315</th>\n",
       "      <td>what have you done so far in you life</td>\n",
       "      <td>Harmful influence of technology essay \"No Need...</td>\n",
       "      <td>[Irrelevant]</td>\n",
       "    </tr>\n",
       "    <tr>\n",
       "      <th>19316</th>\n",
       "      <td>Where does the book the last song take place?</td>\n",
       "      <td>The Last Song (novel) and Bobby Coleman as Jon...</td>\n",
       "      <td>[Irrelevant]</td>\n",
       "    </tr>\n",
       "  </tbody>\n",
       "</table>\n",
       "<p>19317 rows × 3 columns</p>\n",
       "</div>"
      ],
      "text/plain": [
       "                                                  prompt  \\\n",
       "0      What is the airspeed velocity of an unladen sw...   \n",
       "1      There is a sound synthesis technique called Fr...   \n",
       "2             What is the tallest building in the world?   \n",
       "3      Why is light affected by gravity even if it do...   \n",
       "4      Which programming languages support variable v...   \n",
       "...                                                  ...   \n",
       "19312  On a scale 1-10 how do humans rate the pain re...   \n",
       "19313  What is the Splunk SPL to determine statistics...   \n",
       "19314            tell me a story about a boy named james   \n",
       "19315              what have you done so far in you life   \n",
       "19316      Where does the book the last song take place?   \n",
       "\n",
       "                                              completion        output  \n",
       "0      Insect flight its wing frequency (f) about 40 ...  [Irrelevant]  \n",
       "1      Phase distortion synthesis frequency of the re...    [Relevant]  \n",
       "2      Council on Tall Buildings and Urban Habitat th...  [Irrelevant]  \n",
       "3      Gravity Probe A does not seem to travel on a h...    [Relevant]  \n",
       "4      Variable shadowing of the language. One of the...    [Relevant]  \n",
       "...                                                  ...           ...  \n",
       "19312  Dynorphin was measured by tail-flick latency. ...  [Irrelevant]  \n",
       "19313  Splunk to connect directly to applications and...  [Irrelevant]  \n",
       "19314  James Ramsey Ullman \"High Conquest\" was the fi...  [Irrelevant]  \n",
       "19315  Harmful influence of technology essay \"No Need...  [Irrelevant]  \n",
       "19316  The Last Song (novel) and Bobby Coleman as Jon...  [Irrelevant]  \n",
       "\n",
       "[19317 rows x 3 columns]"
      ]
     },
     "execution_count": 4,
     "metadata": {},
     "output_type": "execute_result"
    }
   ],
   "source": [
    "df_train"
   ]
  },
  {
   "cell_type": "code",
   "execution_count": 5,
   "id": "353d6278",
   "metadata": {},
   "outputs": [],
   "source": [
    "df_train[\"output\"] = [1 if i == '[Relevant]' else 0 for i in df_train[\"output\"]]"
   ]
  },
  {
   "cell_type": "code",
   "execution_count": 6,
   "id": "48fdd7f5",
   "metadata": {},
   "outputs": [],
   "source": [
    "train_examples = []\n",
    "for i, row in df_train.iterrows():\n",
    "    train_examples.append(InputExample(texts=[row['completion'], row['prompt']], label=int(row['output'])))"
   ]
  },
  {
   "cell_type": "code",
   "execution_count": 7,
   "id": "04f1e6a9",
   "metadata": {},
   "outputs": [],
   "source": [
    "test_evaluator = CEBinaryClassificationEvaluator.from_input_examples(train_examples, name='test_eval')"
   ]
  },
  {
   "cell_type": "code",
   "execution_count": 8,
   "id": "df1f2a4f",
   "metadata": {
    "scrolled": true
   },
   "outputs": [
    {
     "data": {
      "application/vnd.jupyter.widget-view+json": {
       "model_id": "a0559c90aea243c79fd7a0fcff2efa39",
       "version_major": 2,
       "version_minor": 0
      },
      "text/plain": [
       "Epoch:   0%|          | 0/2 [00:00<?, ?it/s]"
      ]
     },
     "metadata": {},
     "output_type": "display_data"
    },
    {
     "data": {
      "application/vnd.jupyter.widget-view+json": {
       "model_id": "d170bf4e0e624090aca06a8f5353cba9",
       "version_major": 2,
       "version_minor": 0
      },
      "text/plain": [
       "Iteration:   0%|          | 0/9659 [00:00<?, ?it/s]"
      ]
     },
     "metadata": {},
     "output_type": "display_data"
    },
    {
     "data": {
      "application/vnd.jupyter.widget-view+json": {
       "model_id": "be91a24391e44c9f97cf00dff28dc22c",
       "version_major": 2,
       "version_minor": 0
      },
      "text/plain": [
       "Iteration:   0%|          | 0/9659 [00:00<?, ?it/s]"
      ]
     },
     "metadata": {},
     "output_type": "display_data"
    },
    {
     "name": "stderr",
     "output_type": "stream",
     "text": [
      "IOPub message rate exceeded.\n",
      "The notebook server will temporarily stop sending output\n",
      "to the client in order to avoid crashing it.\n",
      "To change this limit, set the config variable\n",
      "`--NotebookApp.iopub_msg_rate_limit`.\n",
      "\n",
      "Current values:\n",
      "NotebookApp.iopub_msg_rate_limit=1000.0 (msgs/sec)\n",
      "NotebookApp.rate_limit_window=3.0 (secs)\n",
      "\n",
      "IOPub message rate exceeded.\n",
      "The notebook server will temporarily stop sending output\n",
      "to the client in order to avoid crashing it.\n",
      "To change this limit, set the config variable\n",
      "`--NotebookApp.iopub_msg_rate_limit`.\n",
      "\n",
      "Current values:\n",
      "NotebookApp.iopub_msg_rate_limit=1000.0 (msgs/sec)\n",
      "NotebookApp.rate_limit_window=3.0 (secs)\n",
      "\n"
     ]
    }
   ],
   "source": [
    "num_epochs = 2\n",
    "model_save_path = \"./model_dump\"\n",
    "train_dataloader = torch.utils.data.DataLoader(train_examples, shuffle=True, batch_size=2)\n",
    "warmup_steps = math.ceil(len(train_dataloader) * num_epochs * 0.1) #10% of train data for warm-up\n",
    "model.fit(train_dataloader=train_dataloader,\n",
    "          evaluator=test_evaluator,\n",
    "          epochs=num_epochs,\n",
    "          evaluation_steps=10_000,\n",
    "          warmup_steps=warmup_steps,\n",
    "          output_path=model_save_path,\n",
    "          show_progress_bar=True)\n"
   ]
  },
  {
   "cell_type": "code",
   "execution_count": 9,
   "id": "150d08c6",
   "metadata": {},
   "outputs": [],
   "source": [
    "model.save(\"topic_check_models/deberta_cross_encoder_08_12_2023\")"
   ]
  },
  {
   "cell_type": "code",
   "execution_count": null,
   "id": "208ba22c",
   "metadata": {},
   "outputs": [],
   "source": []
  }
 ],
 "metadata": {
  "kernelspec": {
   "display_name": "Python 3 (ipykernel)",
   "language": "python",
   "name": "python3"
  },
  "language_info": {
   "codemirror_mode": {
    "name": "ipython",
    "version": 3
   },
   "file_extension": ".py",
   "mimetype": "text/x-python",
   "name": "python",
   "nbconvert_exporter": "python",
   "pygments_lexer": "ipython3",
   "version": "3.10.11"
  }
 },
 "nbformat": 4,
 "nbformat_minor": 5
}
